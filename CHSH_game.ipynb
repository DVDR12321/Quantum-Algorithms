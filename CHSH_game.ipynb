{
 "cells": [
  {
   "cell_type": "markdown",
   "metadata": {
    "tags": []
   },
   "source": [
    "# Quantum CHSH game\n",
    "\n",
    "- **CHSH Inequality Violation** - add more description"
   ]
  },
  {
   "cell_type": "markdown",
   "metadata": {},
   "source": [
    "# imports"
   ]
  },
  {
   "cell_type": "code",
   "execution_count": 1,
   "metadata": {
    "tags": []
   },
   "outputs": [],
   "source": [
    "from qiskit.circuit import QuantumCircuit\n",
    "from qiskit.primitives import Estimator, Sampler\n",
    "from qiskit.quantum_info import SparsePauliOp\n",
    "from qiskit.visualization import plot_histogram\n",
    "\n",
    "import numpy as np\n",
    "import matplotlib.pyplot as plt\n",
    "plt.style.use('dark_background') # optional"
   ]
  },
  {
   "cell_type": "markdown",
   "metadata": {},
   "source": [
    "## CHSH Inequality\n",
    "\n",
    "CHSH ineqiality is named after Clauster, Horne, Shimony and Holt can be used to prove Bell's inequality ( for this proof, Nobel prize in physics was awarded in 2022)\n",
    "\n",
    "In this experiment, we have 2 parties: Alice and Bob. For a given entangled qbit, we Alice will mesure it in 2 bases. For first cubit, bases will be A and a, and for second B and b. So we have:\n",
    "\n",
    "$$\n",
    "\\langle CHSH \\rangle = \\langle AB \\rangle - \\langle Ab \\rangle + \\langle aB \\rangle + \\langle ab \\rangle ?\n",
    "$$\n",
    "\n",
    " Alice and Bob both have a qbit, and by measuring their state (qbit), they obtain either 1 or -1 which are the eigeivalues for  $|0\\rangle$ and $|1\\rangle$, respectively.\n",
    "We conclude that the quantities $(B-b)$ or $(B+b)$ can only be 0 or $ \\pm 2$, so the total expression above can only have the values of $ \\pm 2 $\n",
    "$$\n",
    "|\\langle CHSH \\rangle| = |\\langle AB \\rangle - \\langle Ab \\rangle + \\langle aB \\rangle + \\langle ab \\rangle| \\le 2.\n",
    "$$\n",
    "\n",
    "If we assume locality ( no information travels faster than the speed of light) and realism ( things exist iregardless of whether they are measured or not ), even if this system depended on a set of local hidden varables, the quantity of $CHSH$ should be bound by 2 non the less.\n",
    "\n",
    "But what happens in the quantum case, when the system is entangled?"
   ]
  },
  {
   "cell_type": "markdown",
   "metadata": {},
   "source": [
    "First, we build our \"observer\" or \"withess\" or \"refree\":\n",
    "$$\n",
    "CHSH = A(B-b) + a(B+b) = AB - Ab + aB +ab\n",
    "$$\n",
    "where $A, a$ are each one of $\\{IX, IZ\\}$ for qubit 0 and $B, b$ are each one of $\\{XI, ZI\\}$ for qubit 1 (corresponding to little-endian notation). Paulis on different qubits can be composed by specifying order with a Pauli string, for example instantiating a `SparsePauliOp` with the `'ZX'` argument implies a measurement of $\\langle X \\rangle$ on `q0` and $\\langle Z \\rangle$ on `q1` . This *tensor* product (combining operations on *different* qubits) can be explicitly stated using the `.tensor()` method. Additionally, combining operations on the *same* qubit(s) uses the *compositional* product with the `.compose()` method. For example, all these statements create the same Pauli operator:"
   ]
  },
  {
   "cell_type": "markdown",
   "metadata": {},
   "source": [
    "Part 1 - createing the CHSH \"witness\" in operator form:"
   ]
  },
  {
   "cell_type": "code",
   "execution_count": 2,
   "metadata": {},
   "outputs": [],
   "source": [
    "obsv = SparsePauliOp('IX').compose(SparsePauliOp('XI') - SparsePauliOp('ZI')) + SparsePauliOp('IZ').compose(SparsePauliOp('XI') + SparsePauliOp('ZI'))\n"
   ]
  },
  {
   "cell_type": "markdown",
   "metadata": {},
   "source": [
    "### Creating Entangled Qubit Pair\n",
    "\n",
    "Next we want to test the $CHSH$ observable on an entangled pair, for example the maximally-entangled Bell state\n",
    "$$\n",
    "|\\Phi\\rangle = \\frac{1}{\\sqrt{2}} \\left(|00\\rangle + |11\\rangle \\right)\n",
    "$$\n",
    "which is created with a Hadamard gate followed by a CNOT with the target on the same qubit as the Hadamard. Due to the simplifaction of measuring in just the $X$- and $Z$-bases , we will *rotate* the Bell state around the Bloch sphere which is equivalant to changing the measurement basis. This produces the state\n",
    "$$\n",
    "|\\psi\\rangle = \\frac{1}{\\sqrt{2}} \\left(\\cos(\\theta/2) |00\\rangle + \\sin(\\theta/2)|11\\rangle \\right)\n",
    "$$"
   ]
  },
  {
   "cell_type": "code",
   "execution_count": 5,
   "metadata": {},
   "outputs": [
    {
     "data": {
      "image/png": "[encoded data removed]",
      "text/plain": [
       "<Figure size 370.906x200.667 with 1 Axes>"
      ]
     },
     "execution_count": 5,
     "metadata": {},
     "output_type": "execute_result"
    }
   ],
   "source": [
    "from qiskit.circuit import Parameter\n",
    "\n",
    "theta = Parameter('θ')\n",
    "\n",
    "qc = QuantumCircuit(2)\n",
    "qc.h(0)\n",
    "qc.cx(0, 1)\n",
    "qc.ry(theta, 0)\n",
    "\n",
    "qc.draw('mpl')"
   ]
  },
  {
   "cell_type": "markdown",
   "metadata": {},
   "source": [
    "Next we need to specify a `Sequence` of `Parameter`s that show a clear violation of the CHSH Inequality, namely \n",
    "$$\n",
    "|\\langle CHSH \\rangle| > 2.\n",
    "$$\n",
    "Chosing at least 3 points for parametrisation"
   ]
  },
  {
   "cell_type": "markdown",
   "metadata": {},
   "source": [
    "Part 2 - Createing parametrization"
   ]
  },
  {
   "cell_type": "code",
   "execution_count": 6,
   "metadata": {},
   "outputs": [],
   "source": [
    "pi = np.pi\n",
    "angles = [[2.8*pi/4], [pi/1.8], [pi/1.7]]"
   ]
  },
  {
   "cell_type": "markdown",
   "metadata": {},
   "source": [
    "Testing angles and observable by running with the `Estimator`."
   ]
  },
  {
   "cell_type": "code",
   "execution_count": 7,
   "metadata": {},
   "outputs": [
    {
     "data": {
      "text/plain": [
       "<matplotlib.legend.Legend at 0x261a6628d10>"
      ]
     },
     "execution_count": 7,
     "metadata": {},
     "output_type": "execute_result"
    },
    {
     "data": {
      "image/png": "[encoded data removed]",
      "text/plain": [
       "<Figure size 640x480 with 1 Axes>"
      ]
     },
     "metadata": {},
     "output_type": "display_data"
    }
   ],
   "source": [
    "estimator = Estimator()\n",
    "job = estimator.run([qc]*len(angles), observables=[obsv]*len(angles), parameter_values=angles)\n",
    "exps = job.result().values\n",
    "\n",
    "plt.plot(angles, exps, marker='x', ls='-', color='green')\n",
    "plt.plot(angles, [2]*len(angles), ls='--', color='red', label='Classical Bound')\n",
    "plt.plot(angles, [-2]*len(angles), ls='--', color='red')\n",
    "plt.xlabel('angle (rad)')\n",
    "plt.ylabel('CHSH Witness')\n",
    "plt.legend(loc=4)"
   ]
  }
 ],
 "metadata": {
  "kernelspec": {
   "display_name": "Python 3 (ipykernel)",
   "language": "python",
   "name": "python3"
  },
  "language_info": {
   "codemirror_mode": {
    "name": "ipython",
    "version": 3
   },
   "file_extension": ".py",
   "mimetype": "text/x-python",
   "name": "python",
   "nbconvert_exporter": "python",
   "pygments_lexer": "ipython3",
   "version": "3.11.3"
  },
  "widgets": {
   "application/vnd.jupyter.widget-state+json": {
    "state": {
     "00ca1bc44ace48ada11cc306eb8c6c22": {
      "model_module": "@jupyter-widgets/base",
      "model_module_version": "2.0.0",
      "model_name": "LayoutModel",
      "state": {
       "width": "70px"
      }
     },
     "08830befb1634969af346d89fe0595b2": {
      "model_module": "@jupyter-widgets/controls",
      "model_module_version": "2.0.0",
      "model_name": "HTMLModel",
      "state": {
       "layout": "IPY_MODEL_688daf1efde344e2a994791cb1a82af2",
       "style": "IPY_MODEL_592ce4a730f5464f8509ab6106b9e925",
       "value": "<h5>Message</h5>"
      }
     },
     "2915ef3bfcb14f8b989f1bdac8cfc7f8": {
      "model_module": "@jupyter-widgets/controls",
      "model_module_version": "2.0.0",
      "model_name": "GridBoxModel",
      "state": {
       "children": [
        "IPY_MODEL_a4afcd83c8a04626b08e3d095078a91e"
       ],
       "layout": "IPY_MODEL_c25a80caf51e48fca4b6364e24371a98"
      }
     },
     "464f6f39131d41b88a9dc7cad3b22f7c": {
      "model_module": "@jupyter-widgets/controls",
      "model_module_version": "2.0.0",
      "model_name": "HTMLModel",
      "state": {
       "layout": "IPY_MODEL_a277b4f9013147d3b6306ebf75d23384",
       "style": "IPY_MODEL_6cccac50e7da4799aa6217fd6bf57523",
       "value": "<h5>Status</h5>"
      }
     },
     "496503ae5f934276b23fbdf18d11f1b4": {
      "model_module": "@jupyter-widgets/controls",
      "model_module_version": "2.0.0",
      "model_name": "HTMLModel",
      "state": {
       "layout": "IPY_MODEL_a41b4cd2061a42c8af6fb49e5026f96e",
       "style": "IPY_MODEL_cef5492985b548ec95dec1bcbb6557ad",
       "value": "<p style='font-family: IBM Plex Sans, Arial, Helvetica, sans-serif; font-size: 20px; font-weight: medium;'>Circuit Properties</p>"
      }
     },
     "592ce4a730f5464f8509ab6106b9e925": {
      "model_module": "@jupyter-widgets/controls",
      "model_module_version": "2.0.0",
      "model_name": "HTMLStyleModel",
      "state": {
       "description_width": "",
       "font_size": null,
       "text_color": null
      }
     },
     "5f74adbcb17c460996f435ca8004a53c": {
      "model_module": "@jupyter-widgets/controls",
      "model_module_version": "2.0.0",
      "model_name": "HTMLModel",
      "state": {
       "layout": "IPY_MODEL_00ca1bc44ace48ada11cc306eb8c6c22",
       "style": "IPY_MODEL_789a766b0a8e4520b215d3d85afec0b6",
       "value": "<h5>Queue</h5>"
      }
     },
     "688daf1efde344e2a994791cb1a82af2": {
      "model_module": "@jupyter-widgets/base",
      "model_module_version": "2.0.0",
      "model_name": "LayoutModel",
      "state": {}
     },
     "6cccac50e7da4799aa6217fd6bf57523": {
      "model_module": "@jupyter-widgets/controls",
      "model_module_version": "2.0.0",
      "model_name": "HTMLStyleModel",
      "state": {
       "description_width": "",
       "font_size": null,
       "text_color": null
      }
     },
     "72489e150f4f40248b3ddaab13ec9b36": {
      "model_module": "@jupyter-widgets/base",
      "model_module_version": "2.0.0",
      "model_name": "LayoutModel",
      "state": {
       "width": "145px"
      }
     },
     "789a766b0a8e4520b215d3d85afec0b6": {
      "model_module": "@jupyter-widgets/controls",
      "model_module_version": "2.0.0",
      "model_name": "HTMLStyleModel",
      "state": {
       "description_width": "",
       "font_size": null,
       "text_color": null
      }
     },
     "8ffc9c58a8a64fd4b55b2a3747167919": {
      "model_module": "@jupyter-widgets/base",
      "model_module_version": "2.0.0",
      "model_name": "LayoutModel",
      "state": {
       "width": "190px"
      }
     },
     "9ce674ec92c449d5b9f9494178fe5820": {
      "model_module": "@jupyter-widgets/controls",
      "model_module_version": "2.0.0",
      "model_name": "HTMLStyleModel",
      "state": {
       "description_width": "",
       "font_size": null,
       "text_color": null
      }
     },
     "a1d525dc9a2a43b5b6cfe0a68ed681c9": {
      "model_module": "@jupyter-widgets/base",
      "model_module_version": "2.0.0",
      "model_name": "LayoutModel",
      "state": {
       "margin": "0px 0px 0px 37px",
       "width": "600px"
      }
     },
     "a277b4f9013147d3b6306ebf75d23384": {
      "model_module": "@jupyter-widgets/base",
      "model_module_version": "2.0.0",
      "model_name": "LayoutModel",
      "state": {
       "width": "95px"
      }
     },
     "a4122677890c4bd39b7bd70c9a6d39e6": {
      "model_module": "@jupyter-widgets/controls",
      "model_module_version": "2.0.0",
      "model_name": "ButtonStyleModel",
      "state": {
       "font_family": null,
       "font_size": null,
       "font_style": null,
       "font_variant": null,
       "font_weight": null,
       "text_color": null,
       "text_decoration": null
      }
     },
     "a41b4cd2061a42c8af6fb49e5026f96e": {
      "model_module": "@jupyter-widgets/base",
      "model_module_version": "2.0.0",
      "model_name": "LayoutModel",
      "state": {
       "margin": "0px 0px 10px 0px"
      }
     },
     "a4afcd83c8a04626b08e3d095078a91e": {
      "model_module": "@jupyter-widgets/controls",
      "model_module_version": "2.0.0",
      "model_name": "ButtonModel",
      "state": {
       "button_style": "primary",
       "description": "Clear",
       "layout": "IPY_MODEL_b33ed8d36011467b874c53994001b0ad",
       "style": "IPY_MODEL_a4122677890c4bd39b7bd70c9a6d39e6",
       "tooltip": null
      }
     },
     "b33ed8d36011467b874c53994001b0ad": {
      "model_module": "@jupyter-widgets/base",
      "model_module_version": "2.0.0",
      "model_name": "LayoutModel",
      "state": {
       "grid_area": "right",
       "padding": "0px 0px 0px 0px",
       "width": "70px"
      }
     },
     "c25a80caf51e48fca4b6364e24371a98": {
      "model_module": "@jupyter-widgets/base",
      "model_module_version": "2.0.0",
      "model_name": "LayoutModel",
      "state": {
       "grid_template_areas": "\n                                       \". . . . right \"\n                                        ",
       "grid_template_columns": "20% 20% 20% 20% 20%",
       "width": "100%"
      }
     },
     "cef5492985b548ec95dec1bcbb6557ad": {
      "model_module": "@jupyter-widgets/controls",
      "model_module_version": "2.0.0",
      "model_name": "HTMLStyleModel",
      "state": {
       "description_width": "",
       "font_size": null,
       "text_color": null
      }
     },
     "d01fb5663659400f91d43cee780ca6f6": {
      "model_module": "@jupyter-widgets/controls",
      "model_module_version": "2.0.0",
      "model_name": "HTMLModel",
      "state": {
       "layout": "IPY_MODEL_8ffc9c58a8a64fd4b55b2a3747167919",
       "style": "IPY_MODEL_e26f4cd2912c4d60a3fb05302ae5a774",
       "value": "<h5>Job ID</h5>"
      }
     },
     "e26f4cd2912c4d60a3fb05302ae5a774": {
      "model_module": "@jupyter-widgets/controls",
      "model_module_version": "2.0.0",
      "model_name": "HTMLStyleModel",
      "state": {
       "description_width": "",
       "font_size": null,
       "text_color": null
      }
     },
     "e9077e7e0a51434fa9611ab2cbc9dd20": {
      "model_module": "@jupyter-widgets/controls",
      "model_module_version": "2.0.0",
      "model_name": "HTMLModel",
      "state": {
       "layout": "IPY_MODEL_72489e150f4f40248b3ddaab13ec9b36",
       "style": "IPY_MODEL_9ce674ec92c449d5b9f9494178fe5820",
       "value": "<h5>Backend</h5>"
      }
     },
     "fd14634c3c6a4c1daea31d8acecff70d": {
      "model_module": "@jupyter-widgets/controls",
      "model_module_version": "2.0.0",
      "model_name": "HBoxModel",
      "state": {
       "children": [
        "IPY_MODEL_d01fb5663659400f91d43cee780ca6f6",
        "IPY_MODEL_e9077e7e0a51434fa9611ab2cbc9dd20",
        "IPY_MODEL_464f6f39131d41b88a9dc7cad3b22f7c",
        "IPY_MODEL_5f74adbcb17c460996f435ca8004a53c",
        "IPY_MODEL_08830befb1634969af346d89fe0595b2"
       ],
       "layout": "IPY_MODEL_a1d525dc9a2a43b5b6cfe0a68ed681c9"
      }
     }
    },
    "version_major": 2,
    "version_minor": 0
   }
  }
 },
 "nbformat": 4,
 "nbformat_minor": 4
}
