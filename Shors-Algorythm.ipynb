{
 "cells": [
  {
   "cell_type": "markdown",
   "metadata": {},
   "source": [
    "# Shor's Algorithm\n",
    "***\n",
    "\n",
    "Shor's algorithm is possibly the crown jewel of quantum computing so far. The goal of this algorithm is to find the prime factors of some large number $N$ and the key speedup this algorithm provides over the classical counterpart is by executing the period-finding part using a quantum computer. This has huge implications for cryptography and generally cyber-security.\n",
    "\n",
    "\n",
    "Shor's algorithm is composed of the following steps:\n",
    "1. Choose a co-prime $a$, where $a\\in [2,N-1]$ and the greatest common divisor of $a$ and $N$ is 1.\n",
    "1. Find the order (periodicity) of $a$ modulo $N$, i.e. the smallest integer $r$ such that $a^r\\text{mod} N=1$\n",
    "1. Obtain the factor of $N$ by computing the greatest common divisor of $a^{r/2} \\pm 1$ and $N$."
   ]
  },
  {
   "cell_type": "markdown",
   "metadata": {},
   "source": [
    "## Defining the U - gate\n",
    "We will be working with modular arithemtic base 15. First we need to create the unitary gate that will perform the 7 mod 15 operation."
   ]
  },
  {
   "cell_type": "code",
   "execution_count": null,
   "metadata": {},
   "outputs": [],
   "source": [
    "N = 15\n",
    "m = int(np.ceil(np.log2(N)))\n",
    "\n",
    "U_qc = QuantumCircuit(m)\n",
    "U_qc.x(range(m))\n",
    "U_qc.swap(1, 2)\n",
    "U_qc.swap(2, 3)\n",
    "U_qc.swap(0, 3)\n",
    "\n",
    "U = U_qc.to_gate()\n",
    "U.name ='{}Mod{}'.format(7, N)"
   ]
  },
  {
   "cell_type": "markdown",
   "metadata": {},
   "source": [
    "Next, we will need a way to repeatedly apply the U gate:\n"
   ]
  },
  {
   "cell_type": "code",
   "execution_count": null,
   "metadata": {},
   "outputs": [],
   "source": [
    "#This function will return a ControlledGate object which repeats the action\n",
    "# of U, 2^k times\n",
    "def cU_multi(k):\n",
    "    sys_register_size = 4\n",
    "    circ = QuantumCircuit(sys_register_size)\n",
    "    for _ in range(2**k):\n",
    "        circ.append(U, range(sys_register_size))\n",
    "    \n",
    "    U_multi = circ.to_gate()\n",
    "    U_multi.name = '7Mod15_[2^{}]'.format(k)\n",
    "    \n",
    "    cU_multi = U_multi.control()\n",
    "    return cU_multi"
   ]
  },
  {
   "cell_type": "code",
   "execution_count": null,
   "metadata": {},
   "outputs": [],
   "source": [
    "def shor_qpe(k):\n",
    "    \n",
    "    k = 12\n",
    "    a = 7\n",
    "    m : int = k - 4\n",
    "    #Step 1. Begin a while loop until a nontrivial guess is found\n",
    "    gcheck : bool = True\n",
    "    while gcheck:\n",
    "        \n",
    "        #Step 2.1. Construct a QPE circuit with m phase count qubits\n",
    "        #  to guess the phase phi = s/r using the predefined function cU_multi()\n",
    "        qcirc = QuantumCircuit(k, m)\n",
    "        qcirc.draw(output = \"mpl\")\n",
    "        for i in range (m):\n",
    "            qcirc.h(i)\n",
    "            qcirc.x(8)\n",
    "        for i in range (m):\n",
    "            qcirc.append(cU_multi(i), [i] + list(range(m, k)))\n",
    "        qcirc.barrier()\n",
    "        qft_dagger(qcirc, m)\n",
    "        qcirc.barrier()\n",
    "        qcirc.measure(range(m), range(m))\n",
    "        qcirc.draw(output = \"mpl\")\n",
    " \n",
    "\n",
    "        #Step 2b. Run the QPE circuit with a single shot, record the results\n",
    "        # and convert the estimated phase bitstring to decimal\n",
    "                \n",
    "        sim = Aer.get_backend('aer_simulator')\n",
    "        shots = 1\n",
    "        qcirc_counts = execute(qcirc, sim, shots=shots).result().get_counts()\n",
    "        plot_histogram(qcirc_counts, figsize=(9,5))\n",
    "        for i in qcirc_counts.values():\n",
    "            a : int = (len(str(i)))\n",
    "            decval : float = float(i) / pow(10, a)\n",
    "\n",
    "        #Step 3. Use the Fraction object to find the guess for r\n",
    "        r = (Fraction(decval).limit_denominator(15))\n",
    "\n",
    "        #Step 4. Now that r has been found, use the builtin greatest common deonominator\n",
    "        guesses = [gcd(a**(r//2)-1, N), gcd(a**(r//2)+1, N)]\n",
    "\n",
    "        #Step 5. For each guess in guesses, check if at least one is a non-trivial factor\n",
    "        # i.e.  (guess != 1 or N) and (N % guess == 0)\n",
    "        \n",
    "        for guess in guesses:\n",
    "            if (guess != 1 and guess != N) and ( N % guess != 0):  \n",
    "                print(guesses)\n",
    "                !(gcheck)\n",
    "                break\n",
    "            else:\n",
    "                print(\"no non trivial guesses\")\n",
    "    #Step 6. If a nontrivial factor is found return the list 'guesses', otherwise\n",
    "    # continue the while loop\n",
    "  \n",
    "        if gcheck == True:\n",
    "            continue\n",
    "        else:\n",
    "            break\n",
    "    print(guesses)\n",
    "    return guesses"
   ]
  }
 ],
 "metadata": {
  "kernelspec": {
   "display_name": "ibm_qiskit",
   "language": "python",
   "name": "python3"
  },
  "language_info": {
   "name": "python",
   "version": "3.11.4"
  },
  "orig_nbformat": 4
 },
 "nbformat": 4,
 "nbformat_minor": 2
}
